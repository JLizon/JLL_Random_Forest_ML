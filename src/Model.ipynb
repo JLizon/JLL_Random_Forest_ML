{
    "cells": [
        {
            "cell_type": "markdown",
            "metadata": {},
            "source": [
                "# Model ML"
            ]
        },
        {
            "cell_type": "markdown",
            "metadata": {},
            "source": [
                "### Random Forest Model 1"
            ]
        },
        {
            "cell_type": "code",
            "execution_count": 63,
            "metadata": {},
            "outputs": [],
            "source": [
                "import pandas as pd\n",
                "\n",
                "test_diabetes = pd.read_csv('https://raw.githubusercontent.com/4GeeksAcademy/JLL_Decision_Trees_ML/main/data/processed/clean_diabetes_test.csv', sep=',')\n",
                "train_diabetes = pd.read_csv('https://raw.githubusercontent.com/4GeeksAcademy/JLL_Decision_Trees_ML/main/data/processed/clean_diabetes_train.csv', sep=',')\n"
            ]
        },
        {
            "cell_type": "code",
            "execution_count": 64,
            "metadata": {},
            "outputs": [],
            "source": [
                "X_train = train_diabetes.drop([\"Outcome\"], axis=1)\n",
                "y_train = train_diabetes[\"Outcome\"]\n",
                "X_test = test_diabetes.drop([\"Outcome\"], axis=1)\n",
                "y_test = test_diabetes[\"Outcome\"]"
            ]
        },
        {
            "cell_type": "code",
            "execution_count": 65,
            "metadata": {},
            "outputs": [
                {
                    "data": {
                        "text/html": [
                            "<style>#sk-container-id-18 {color: black;}#sk-container-id-18 pre{padding: 0;}#sk-container-id-18 div.sk-toggleable {background-color: white;}#sk-container-id-18 label.sk-toggleable__label {cursor: pointer;display: block;width: 100%;margin-bottom: 0;padding: 0.3em;box-sizing: border-box;text-align: center;}#sk-container-id-18 label.sk-toggleable__label-arrow:before {content: \"▸\";float: left;margin-right: 0.25em;color: #696969;}#sk-container-id-18 label.sk-toggleable__label-arrow:hover:before {color: black;}#sk-container-id-18 div.sk-estimator:hover label.sk-toggleable__label-arrow:before {color: black;}#sk-container-id-18 div.sk-toggleable__content {max-height: 0;max-width: 0;overflow: hidden;text-align: left;background-color: #f0f8ff;}#sk-container-id-18 div.sk-toggleable__content pre {margin: 0.2em;color: black;border-radius: 0.25em;background-color: #f0f8ff;}#sk-container-id-18 input.sk-toggleable__control:checked~div.sk-toggleable__content {max-height: 200px;max-width: 100%;overflow: auto;}#sk-container-id-18 input.sk-toggleable__control:checked~label.sk-toggleable__label-arrow:before {content: \"▾\";}#sk-container-id-18 div.sk-estimator input.sk-toggleable__control:checked~label.sk-toggleable__label {background-color: #d4ebff;}#sk-container-id-18 div.sk-label input.sk-toggleable__control:checked~label.sk-toggleable__label {background-color: #d4ebff;}#sk-container-id-18 input.sk-hidden--visually {border: 0;clip: rect(1px 1px 1px 1px);clip: rect(1px, 1px, 1px, 1px);height: 1px;margin: -1px;overflow: hidden;padding: 0;position: absolute;width: 1px;}#sk-container-id-18 div.sk-estimator {font-family: monospace;background-color: #f0f8ff;border: 1px dotted black;border-radius: 0.25em;box-sizing: border-box;margin-bottom: 0.5em;}#sk-container-id-18 div.sk-estimator:hover {background-color: #d4ebff;}#sk-container-id-18 div.sk-parallel-item::after {content: \"\";width: 100%;border-bottom: 1px solid gray;flex-grow: 1;}#sk-container-id-18 div.sk-label:hover label.sk-toggleable__label {background-color: #d4ebff;}#sk-container-id-18 div.sk-serial::before {content: \"\";position: absolute;border-left: 1px solid gray;box-sizing: border-box;top: 0;bottom: 0;left: 50%;z-index: 0;}#sk-container-id-18 div.sk-serial {display: flex;flex-direction: column;align-items: center;background-color: white;padding-right: 0.2em;padding-left: 0.2em;position: relative;}#sk-container-id-18 div.sk-item {position: relative;z-index: 1;}#sk-container-id-18 div.sk-parallel {display: flex;align-items: stretch;justify-content: center;background-color: white;position: relative;}#sk-container-id-18 div.sk-item::before, #sk-container-id-18 div.sk-parallel-item::before {content: \"\";position: absolute;border-left: 1px solid gray;box-sizing: border-box;top: 0;bottom: 0;left: 50%;z-index: -1;}#sk-container-id-18 div.sk-parallel-item {display: flex;flex-direction: column;z-index: 1;position: relative;background-color: white;}#sk-container-id-18 div.sk-parallel-item:first-child::after {align-self: flex-end;width: 50%;}#sk-container-id-18 div.sk-parallel-item:last-child::after {align-self: flex-start;width: 50%;}#sk-container-id-18 div.sk-parallel-item:only-child::after {width: 0;}#sk-container-id-18 div.sk-dashed-wrapped {border: 1px dashed gray;margin: 0 0.4em 0.5em 0.4em;box-sizing: border-box;padding-bottom: 0.4em;background-color: white;}#sk-container-id-18 div.sk-label label {font-family: monospace;font-weight: bold;display: inline-block;line-height: 1.2em;}#sk-container-id-18 div.sk-label-container {text-align: center;}#sk-container-id-18 div.sk-container {/* jupyter's `normalize.less` sets `[hidden] { display: none; }` but bootstrap.min.css set `[hidden] { display: none !important; }` so we also need the `!important` here to be able to override the default hidden behavior on the sphinx rendered scikit-learn.org. See: https://github.com/scikit-learn/scikit-learn/issues/21755 */display: inline-block !important;position: relative;}#sk-container-id-18 div.sk-text-repr-fallback {display: none;}</style><div id=\"sk-container-id-18\" class=\"sk-top-container\"><div class=\"sk-text-repr-fallback\"><pre>RandomForestClassifier(random_state=42)</pre><b>In a Jupyter environment, please rerun this cell to show the HTML representation or trust the notebook. <br />On GitHub, the HTML representation is unable to render, please try loading this page with nbviewer.org.</b></div><div class=\"sk-container\" hidden><div class=\"sk-item\"><div class=\"sk-estimator sk-toggleable\"><input class=\"sk-toggleable__control sk-hidden--visually\" id=\"sk-estimator-id-28\" type=\"checkbox\" checked><label for=\"sk-estimator-id-28\" class=\"sk-toggleable__label sk-toggleable__label-arrow\">RandomForestClassifier</label><div class=\"sk-toggleable__content\"><pre>RandomForestClassifier(random_state=42)</pre></div></div></div></div></div>"
                        ],
                        "text/plain": [
                            "RandomForestClassifier(random_state=42)"
                        ]
                    },
                    "execution_count": 65,
                    "metadata": {},
                    "output_type": "execute_result"
                }
            ],
            "source": [
                "from sklearn.ensemble import RandomForestClassifier\n",
                "\n",
                "model = RandomForestClassifier(random_state = 42)\n",
                "model.fit(X_train, y_train)"
            ]
        },
        {
            "cell_type": "code",
            "execution_count": 66,
            "metadata": {},
            "outputs": [
                {
                    "data": {
                        "text/plain": [
                            "array([0, 0, 0, 0, 0, 1, 0, 1, 1, 1, 0, 1, 0, 0, 0, 0, 0, 0, 1, 1, 0, 0,\n",
                            "       0, 0, 1, 1, 0, 0, 0, 0, 1, 1, 1, 1, 1, 1, 1, 0, 0, 1, 0, 0, 1, 0,\n",
                            "       0, 1, 0, 0, 0, 1, 0, 1, 1, 0, 0, 0, 1, 0, 0, 1, 1, 0, 0, 0, 0, 1,\n",
                            "       0, 1, 0, 1, 1, 0, 0, 0, 0, 0, 0, 0, 0, 0, 1, 0, 0, 0, 0, 1, 1, 0,\n",
                            "       0, 0, 0, 0, 0, 1, 0, 1, 1, 0, 1, 0, 1, 0, 1, 1, 1, 0, 0, 1, 0, 1,\n",
                            "       0, 1, 0, 1, 0, 0, 1, 0, 0, 1, 0, 0, 0, 0, 0, 1, 0, 1, 1, 1, 1, 1,\n",
                            "       0, 0, 1, 0, 0, 1, 1, 0, 0, 0, 0, 0, 0, 0, 0, 0, 0, 1, 0, 0, 0, 0])"
                        ]
                    },
                    "execution_count": 66,
                    "metadata": {},
                    "output_type": "execute_result"
                }
            ],
            "source": [
                "y_pred = model.predict(X_test)\n",
                "y_pred"
            ]
        },
        {
            "cell_type": "code",
            "execution_count": 67,
            "metadata": {},
            "outputs": [
                {
                    "data": {
                        "text/plain": [
                            "0.7467532467532467"
                        ]
                    },
                    "execution_count": 67,
                    "metadata": {},
                    "output_type": "execute_result"
                }
            ],
            "source": [
                "from sklearn.metrics import accuracy_score\n",
                "\n",
                "accuracy_score(y_test, y_pred)"
            ]
        },
        {
            "cell_type": "code",
            "execution_count": 68,
            "metadata": {},
            "outputs": [],
            "source": [
                "from pickle import dump\n",
                "\n",
                "dump(model, open(\"/workspaces/JLL_Random_Forest_ML/models/random_forest_classifier_default_42.sav\", \"wb\"))"
            ]
        },
        {
            "cell_type": "markdown",
            "metadata": {},
            "source": [
                "### Random Forest Model 2"
            ]
        },
        {
            "cell_type": "code",
            "execution_count": 69,
            "metadata": {},
            "outputs": [
                {
                    "data": {
                        "text/html": [
                            "<style>#sk-container-id-19 {color: black;}#sk-container-id-19 pre{padding: 0;}#sk-container-id-19 div.sk-toggleable {background-color: white;}#sk-container-id-19 label.sk-toggleable__label {cursor: pointer;display: block;width: 100%;margin-bottom: 0;padding: 0.3em;box-sizing: border-box;text-align: center;}#sk-container-id-19 label.sk-toggleable__label-arrow:before {content: \"▸\";float: left;margin-right: 0.25em;color: #696969;}#sk-container-id-19 label.sk-toggleable__label-arrow:hover:before {color: black;}#sk-container-id-19 div.sk-estimator:hover label.sk-toggleable__label-arrow:before {color: black;}#sk-container-id-19 div.sk-toggleable__content {max-height: 0;max-width: 0;overflow: hidden;text-align: left;background-color: #f0f8ff;}#sk-container-id-19 div.sk-toggleable__content pre {margin: 0.2em;color: black;border-radius: 0.25em;background-color: #f0f8ff;}#sk-container-id-19 input.sk-toggleable__control:checked~div.sk-toggleable__content {max-height: 200px;max-width: 100%;overflow: auto;}#sk-container-id-19 input.sk-toggleable__control:checked~label.sk-toggleable__label-arrow:before {content: \"▾\";}#sk-container-id-19 div.sk-estimator input.sk-toggleable__control:checked~label.sk-toggleable__label {background-color: #d4ebff;}#sk-container-id-19 div.sk-label input.sk-toggleable__control:checked~label.sk-toggleable__label {background-color: #d4ebff;}#sk-container-id-19 input.sk-hidden--visually {border: 0;clip: rect(1px 1px 1px 1px);clip: rect(1px, 1px, 1px, 1px);height: 1px;margin: -1px;overflow: hidden;padding: 0;position: absolute;width: 1px;}#sk-container-id-19 div.sk-estimator {font-family: monospace;background-color: #f0f8ff;border: 1px dotted black;border-radius: 0.25em;box-sizing: border-box;margin-bottom: 0.5em;}#sk-container-id-19 div.sk-estimator:hover {background-color: #d4ebff;}#sk-container-id-19 div.sk-parallel-item::after {content: \"\";width: 100%;border-bottom: 1px solid gray;flex-grow: 1;}#sk-container-id-19 div.sk-label:hover label.sk-toggleable__label {background-color: #d4ebff;}#sk-container-id-19 div.sk-serial::before {content: \"\";position: absolute;border-left: 1px solid gray;box-sizing: border-box;top: 0;bottom: 0;left: 50%;z-index: 0;}#sk-container-id-19 div.sk-serial {display: flex;flex-direction: column;align-items: center;background-color: white;padding-right: 0.2em;padding-left: 0.2em;position: relative;}#sk-container-id-19 div.sk-item {position: relative;z-index: 1;}#sk-container-id-19 div.sk-parallel {display: flex;align-items: stretch;justify-content: center;background-color: white;position: relative;}#sk-container-id-19 div.sk-item::before, #sk-container-id-19 div.sk-parallel-item::before {content: \"\";position: absolute;border-left: 1px solid gray;box-sizing: border-box;top: 0;bottom: 0;left: 50%;z-index: -1;}#sk-container-id-19 div.sk-parallel-item {display: flex;flex-direction: column;z-index: 1;position: relative;background-color: white;}#sk-container-id-19 div.sk-parallel-item:first-child::after {align-self: flex-end;width: 50%;}#sk-container-id-19 div.sk-parallel-item:last-child::after {align-self: flex-start;width: 50%;}#sk-container-id-19 div.sk-parallel-item:only-child::after {width: 0;}#sk-container-id-19 div.sk-dashed-wrapped {border: 1px dashed gray;margin: 0 0.4em 0.5em 0.4em;box-sizing: border-box;padding-bottom: 0.4em;background-color: white;}#sk-container-id-19 div.sk-label label {font-family: monospace;font-weight: bold;display: inline-block;line-height: 1.2em;}#sk-container-id-19 div.sk-label-container {text-align: center;}#sk-container-id-19 div.sk-container {/* jupyter's `normalize.less` sets `[hidden] { display: none; }` but bootstrap.min.css set `[hidden] { display: none !important; }` so we also need the `!important` here to be able to override the default hidden behavior on the sphinx rendered scikit-learn.org. See: https://github.com/scikit-learn/scikit-learn/issues/21755 */display: inline-block !important;position: relative;}#sk-container-id-19 div.sk-text-repr-fallback {display: none;}</style><div id=\"sk-container-id-19\" class=\"sk-top-container\"><div class=\"sk-text-repr-fallback\"><pre>RandomForestClassifier(random_state=42)</pre><b>In a Jupyter environment, please rerun this cell to show the HTML representation or trust the notebook. <br />On GitHub, the HTML representation is unable to render, please try loading this page with nbviewer.org.</b></div><div class=\"sk-container\" hidden><div class=\"sk-item\"><div class=\"sk-estimator sk-toggleable\"><input class=\"sk-toggleable__control sk-hidden--visually\" id=\"sk-estimator-id-29\" type=\"checkbox\" checked><label for=\"sk-estimator-id-29\" class=\"sk-toggleable__label sk-toggleable__label-arrow\">RandomForestClassifier</label><div class=\"sk-toggleable__content\"><pre>RandomForestClassifier(random_state=42)</pre></div></div></div></div></div>"
                        ],
                        "text/plain": [
                            "RandomForestClassifier(random_state=42)"
                        ]
                    },
                    "execution_count": 69,
                    "metadata": {},
                    "output_type": "execute_result"
                }
            ],
            "source": [
                "model_2 = RandomForestClassifier(random_state = 42)\n",
                "model_2.fit(X_train, y_train)"
            ]
        },
        {
            "cell_type": "code",
            "execution_count": 148,
            "metadata": {},
            "outputs": [
                {
                    "data": {
                        "text/html": [
                            "<style>#sk-container-id-28 {color: black;}#sk-container-id-28 pre{padding: 0;}#sk-container-id-28 div.sk-toggleable {background-color: white;}#sk-container-id-28 label.sk-toggleable__label {cursor: pointer;display: block;width: 100%;margin-bottom: 0;padding: 0.3em;box-sizing: border-box;text-align: center;}#sk-container-id-28 label.sk-toggleable__label-arrow:before {content: \"▸\";float: left;margin-right: 0.25em;color: #696969;}#sk-container-id-28 label.sk-toggleable__label-arrow:hover:before {color: black;}#sk-container-id-28 div.sk-estimator:hover label.sk-toggleable__label-arrow:before {color: black;}#sk-container-id-28 div.sk-toggleable__content {max-height: 0;max-width: 0;overflow: hidden;text-align: left;background-color: #f0f8ff;}#sk-container-id-28 div.sk-toggleable__content pre {margin: 0.2em;color: black;border-radius: 0.25em;background-color: #f0f8ff;}#sk-container-id-28 input.sk-toggleable__control:checked~div.sk-toggleable__content {max-height: 200px;max-width: 100%;overflow: auto;}#sk-container-id-28 input.sk-toggleable__control:checked~label.sk-toggleable__label-arrow:before {content: \"▾\";}#sk-container-id-28 div.sk-estimator input.sk-toggleable__control:checked~label.sk-toggleable__label {background-color: #d4ebff;}#sk-container-id-28 div.sk-label input.sk-toggleable__control:checked~label.sk-toggleable__label {background-color: #d4ebff;}#sk-container-id-28 input.sk-hidden--visually {border: 0;clip: rect(1px 1px 1px 1px);clip: rect(1px, 1px, 1px, 1px);height: 1px;margin: -1px;overflow: hidden;padding: 0;position: absolute;width: 1px;}#sk-container-id-28 div.sk-estimator {font-family: monospace;background-color: #f0f8ff;border: 1px dotted black;border-radius: 0.25em;box-sizing: border-box;margin-bottom: 0.5em;}#sk-container-id-28 div.sk-estimator:hover {background-color: #d4ebff;}#sk-container-id-28 div.sk-parallel-item::after {content: \"\";width: 100%;border-bottom: 1px solid gray;flex-grow: 1;}#sk-container-id-28 div.sk-label:hover label.sk-toggleable__label {background-color: #d4ebff;}#sk-container-id-28 div.sk-serial::before {content: \"\";position: absolute;border-left: 1px solid gray;box-sizing: border-box;top: 0;bottom: 0;left: 50%;z-index: 0;}#sk-container-id-28 div.sk-serial {display: flex;flex-direction: column;align-items: center;background-color: white;padding-right: 0.2em;padding-left: 0.2em;position: relative;}#sk-container-id-28 div.sk-item {position: relative;z-index: 1;}#sk-container-id-28 div.sk-parallel {display: flex;align-items: stretch;justify-content: center;background-color: white;position: relative;}#sk-container-id-28 div.sk-item::before, #sk-container-id-28 div.sk-parallel-item::before {content: \"\";position: absolute;border-left: 1px solid gray;box-sizing: border-box;top: 0;bottom: 0;left: 50%;z-index: -1;}#sk-container-id-28 div.sk-parallel-item {display: flex;flex-direction: column;z-index: 1;position: relative;background-color: white;}#sk-container-id-28 div.sk-parallel-item:first-child::after {align-self: flex-end;width: 50%;}#sk-container-id-28 div.sk-parallel-item:last-child::after {align-self: flex-start;width: 50%;}#sk-container-id-28 div.sk-parallel-item:only-child::after {width: 0;}#sk-container-id-28 div.sk-dashed-wrapped {border: 1px dashed gray;margin: 0 0.4em 0.5em 0.4em;box-sizing: border-box;padding-bottom: 0.4em;background-color: white;}#sk-container-id-28 div.sk-label label {font-family: monospace;font-weight: bold;display: inline-block;line-height: 1.2em;}#sk-container-id-28 div.sk-label-container {text-align: center;}#sk-container-id-28 div.sk-container {/* jupyter's `normalize.less` sets `[hidden] { display: none; }` but bootstrap.min.css set `[hidden] { display: none !important; }` so we also need the `!important` here to be able to override the default hidden behavior on the sphinx rendered scikit-learn.org. See: https://github.com/scikit-learn/scikit-learn/issues/21755 */display: inline-block !important;position: relative;}#sk-container-id-28 div.sk-text-repr-fallback {display: none;}</style><div id=\"sk-container-id-28\" class=\"sk-top-container\"><div class=\"sk-text-repr-fallback\"><pre>GridSearchCV(cv=5, estimator=RandomForestClassifier(random_state=42),\n",
                            "             param_grid={&#x27;bootstrap&#x27;: [False, True],\n",
                            "                         &#x27;max_depth&#x27;: [array([ 4,  5,  6,  7,  8,  9, 10, 11]),\n",
                            "                                       None],\n",
                            "                         &#x27;min_samples_split&#x27;: array([1, 2, 3, 4, 5, 6, 7, 8, 9]),\n",
                            "                         &#x27;n_estimators&#x27;: [array([ 2,  3,  4,  5,  6,  7,  8,  9, 10, 11, 12, 13, 14, 15, 16, 17, 18,\n",
                            "       19, 20, 21, 22, 23, 24, 25, 26, 27, 28, 29, 30, 31, 32, 33, 34, 35,\n",
                            "       36, 37, 38, 39, 40, 41, 42, 43, 44, 45, 46, 47, 48, 49]),\n",
                            "                                          100],\n",
                            "                         &#x27;random_state&#x27;: [42]},\n",
                            "             scoring=&#x27;accuracy&#x27;)</pre><b>In a Jupyter environment, please rerun this cell to show the HTML representation or trust the notebook. <br />On GitHub, the HTML representation is unable to render, please try loading this page with nbviewer.org.</b></div><div class=\"sk-container\" hidden><div class=\"sk-item sk-dashed-wrapped\"><div class=\"sk-label-container\"><div class=\"sk-label sk-toggleable\"><input class=\"sk-toggleable__control sk-hidden--visually\" id=\"sk-estimator-id-54\" type=\"checkbox\" ><label for=\"sk-estimator-id-54\" class=\"sk-toggleable__label sk-toggleable__label-arrow\">GridSearchCV</label><div class=\"sk-toggleable__content\"><pre>GridSearchCV(cv=5, estimator=RandomForestClassifier(random_state=42),\n",
                            "             param_grid={&#x27;bootstrap&#x27;: [False, True],\n",
                            "                         &#x27;max_depth&#x27;: [array([ 4,  5,  6,  7,  8,  9, 10, 11]),\n",
                            "                                       None],\n",
                            "                         &#x27;min_samples_split&#x27;: array([1, 2, 3, 4, 5, 6, 7, 8, 9]),\n",
                            "                         &#x27;n_estimators&#x27;: [array([ 2,  3,  4,  5,  6,  7,  8,  9, 10, 11, 12, 13, 14, 15, 16, 17, 18,\n",
                            "       19, 20, 21, 22, 23, 24, 25, 26, 27, 28, 29, 30, 31, 32, 33, 34, 35,\n",
                            "       36, 37, 38, 39, 40, 41, 42, 43, 44, 45, 46, 47, 48, 49]),\n",
                            "                                          100],\n",
                            "                         &#x27;random_state&#x27;: [42]},\n",
                            "             scoring=&#x27;accuracy&#x27;)</pre></div></div></div><div class=\"sk-parallel\"><div class=\"sk-parallel-item\"><div class=\"sk-item\"><div class=\"sk-label-container\"><div class=\"sk-label sk-toggleable\"><input class=\"sk-toggleable__control sk-hidden--visually\" id=\"sk-estimator-id-55\" type=\"checkbox\" ><label for=\"sk-estimator-id-55\" class=\"sk-toggleable__label sk-toggleable__label-arrow\">estimator: RandomForestClassifier</label><div class=\"sk-toggleable__content\"><pre>RandomForestClassifier(random_state=42)</pre></div></div></div><div class=\"sk-serial\"><div class=\"sk-item\"><div class=\"sk-estimator sk-toggleable\"><input class=\"sk-toggleable__control sk-hidden--visually\" id=\"sk-estimator-id-56\" type=\"checkbox\" ><label for=\"sk-estimator-id-56\" class=\"sk-toggleable__label sk-toggleable__label-arrow\">RandomForestClassifier</label><div class=\"sk-toggleable__content\"><pre>RandomForestClassifier(random_state=42)</pre></div></div></div></div></div></div></div></div></div></div>"
                        ],
                        "text/plain": [
                            "GridSearchCV(cv=5, estimator=RandomForestClassifier(random_state=42),\n",
                            "             param_grid={'bootstrap': [False, True],\n",
                            "                         'max_depth': [array([ 4,  5,  6,  7,  8,  9, 10, 11]),\n",
                            "                                       None],\n",
                            "                         'min_samples_split': array([1, 2, 3, 4, 5, 6, 7, 8, 9]),\n",
                            "                         'n_estimators': [array([ 2,  3,  4,  5,  6,  7,  8,  9, 10, 11, 12, 13, 14, 15, 16, 17, 18,\n",
                            "       19, 20, 21, 22, 23, 24, 25, 26, 27, 28, 29, 30, 31, 32, 33, 34, 35,\n",
                            "       36, 37, 38, 39, 40, 41, 42, 43, 44, 45, 46, 47, 48, 49]),\n",
                            "                                          100],\n",
                            "                         'random_state': [42]},\n",
                            "             scoring='accuracy')"
                        ]
                    },
                    "execution_count": 148,
                    "metadata": {},
                    "output_type": "execute_result"
                }
            ],
            "source": [
                "from sklearn.model_selection import GridSearchCV\n",
                "import numpy as np\n",
                "\n",
                "hyperparams = {\n",
                "    \"n_estimators\": [np.arange(2,50)] + [100],\n",
                "    \"bootstrap\" : [False, True],\n",
                "    \"min_samples_split\": np.arange(1,10),\n",
                "    \"max_depth\" : [np.arange(4,12)]+ [None],\n",
                "    \"random_state\" : [42],\n",
                "}\n",
                "\n",
                "grid = GridSearchCV(model_2, hyperparams, scoring = \"accuracy\", cv = 5, refit=True)\n",
                "grid"
            ]
        },
        {
            "cell_type": "code",
            "execution_count": 149,
            "metadata": {},
            "outputs": [
                {
                    "name": "stdout",
                    "output_type": "stream",
                    "text": [
                        "Mejores hiperparámetros: {'bootstrap': False, 'max_depth': None, 'min_samples_split': 4, 'n_estimators': 100, 'random_state': 42}\n"
                    ]
                }
            ],
            "source": [
                "def warn(*args, **kwargs):\n",
                "    pass\n",
                "import warnings\n",
                "warnings.warn = warn\n",
                "\n",
                "grid.fit(X_train, y_train)\n",
                "\n",
                "print(f\"Mejores hiperparámetros: {grid.best_params_}\")"
            ]
        },
        {
            "cell_type": "code",
            "execution_count": 160,
            "metadata": {},
            "outputs": [
                {
                    "data": {
                        "text/plain": [
                            "0.7792207792207793"
                        ]
                    },
                    "execution_count": 160,
                    "metadata": {},
                    "output_type": "execute_result"
                }
            ],
            "source": [
                "grid_model = RandomForestClassifier(bootstrap= False, max_depth= None, min_samples_split= 3, n_estimators= 100, random_state = 42)\n",
                "grid_model.fit(X_train, y_train)\n",
                "\n",
                "dump(grid_model, open(\"/workspaces/JLL_Random_Forest_ML/models/random_forest__classifier_grid.sav\", \"wb\"))\n",
                "\n",
                "y_pred_grid = grid_model.predict(X_test)\n",
                "\n",
                "from sklearn.metrics import accuracy_score\n",
                "\n",
                "accuracy_score(y_test, y_pred_grid)"
            ]
        },
        {
            "cell_type": "markdown",
            "metadata": {},
            "source": [
                "***Conclusions***"
            ]
        },
        {
            "cell_type": "markdown",
            "metadata": {},
            "source": [
                "*The base random forest is better than the optimized decision tree, only 0,04 but better*"
            ]
        },
        {
            "cell_type": "markdown",
            "metadata": {},
            "source": [
                "***Graph the conclusions***"
            ]
        },
        {
            "cell_type": "code",
            "execution_count": null,
            "metadata": {},
            "outputs": [],
            "source": [
                "import matplotlib.pyplot as plt\n",
                "import seaborn as sns\n",
                "from sklearn.metrics import accuracy_score, f1_score, mean_squared_error, r2_score, make_scorer, classification_report"
            ]
        },
        {
            "cell_type": "code",
            "execution_count": 162,
            "metadata": {},
            "outputs": [
                {
                    "data": {
                        "text/html": [
                            "<div>\n",
                            "<style scoped>\n",
                            "    .dataframe tbody tr th:only-of-type {\n",
                            "        vertical-align: middle;\n",
                            "    }\n",
                            "\n",
                            "    .dataframe tbody tr th {\n",
                            "        vertical-align: top;\n",
                            "    }\n",
                            "\n",
                            "    .dataframe thead th {\n",
                            "        text-align: right;\n",
                            "    }\n",
                            "</style>\n",
                            "<table border=\"1\" class=\"dataframe\">\n",
                            "  <thead>\n",
                            "    <tr style=\"text-align: right;\">\n",
                            "      <th></th>\n",
                            "      <th>mean_fit_time</th>\n",
                            "      <th>std_fit_time</th>\n",
                            "      <th>mean_score_time</th>\n",
                            "      <th>std_score_time</th>\n",
                            "      <th>param_bootstrap</th>\n",
                            "      <th>param_max_depth</th>\n",
                            "      <th>param_min_samples_split</th>\n",
                            "      <th>param_n_estimators</th>\n",
                            "      <th>param_random_state</th>\n",
                            "      <th>params</th>\n",
                            "      <th>split0_test_score</th>\n",
                            "      <th>split1_test_score</th>\n",
                            "      <th>split2_test_score</th>\n",
                            "      <th>split3_test_score</th>\n",
                            "      <th>split4_test_score</th>\n",
                            "      <th>mean_test_score</th>\n",
                            "      <th>std_test_score</th>\n",
                            "      <th>rank_test_score</th>\n",
                            "    </tr>\n",
                            "  </thead>\n",
                            "  <tbody>\n",
                            "    <tr>\n",
                            "      <th>0</th>\n",
                            "      <td>0.000621</td>\n",
                            "      <td>0.000265</td>\n",
                            "      <td>0.000000</td>\n",
                            "      <td>0.000000</td>\n",
                            "      <td>False</td>\n",
                            "      <td>[4, 5, 6, 7, 8, 9, 10, 11]</td>\n",
                            "      <td>1</td>\n",
                            "      <td>[2, 3, 4, 5, 6, 7, 8, 9, 10, 11, 12, 13, 14, 1...</td>\n",
                            "      <td>42</td>\n",
                            "      <td>{'bootstrap': False, 'max_depth': [4, 5, 6, 7,...</td>\n",
                            "      <td>NaN</td>\n",
                            "      <td>NaN</td>\n",
                            "      <td>NaN</td>\n",
                            "      <td>NaN</td>\n",
                            "      <td>NaN</td>\n",
                            "      <td>NaN</td>\n",
                            "      <td>NaN</td>\n",
                            "      <td>17</td>\n",
                            "    </tr>\n",
                            "    <tr>\n",
                            "      <th>1</th>\n",
                            "      <td>0.000505</td>\n",
                            "      <td>0.000042</td>\n",
                            "      <td>0.000000</td>\n",
                            "      <td>0.000000</td>\n",
                            "      <td>False</td>\n",
                            "      <td>[4, 5, 6, 7, 8, 9, 10, 11]</td>\n",
                            "      <td>1</td>\n",
                            "      <td>100</td>\n",
                            "      <td>42</td>\n",
                            "      <td>{'bootstrap': False, 'max_depth': [4, 5, 6, 7,...</td>\n",
                            "      <td>NaN</td>\n",
                            "      <td>NaN</td>\n",
                            "      <td>NaN</td>\n",
                            "      <td>NaN</td>\n",
                            "      <td>NaN</td>\n",
                            "      <td>NaN</td>\n",
                            "      <td>NaN</td>\n",
                            "      <td>17</td>\n",
                            "    </tr>\n",
                            "    <tr>\n",
                            "      <th>2</th>\n",
                            "      <td>0.000491</td>\n",
                            "      <td>0.000086</td>\n",
                            "      <td>0.000000</td>\n",
                            "      <td>0.000000</td>\n",
                            "      <td>False</td>\n",
                            "      <td>[4, 5, 6, 7, 8, 9, 10, 11]</td>\n",
                            "      <td>2</td>\n",
                            "      <td>[2, 3, 4, 5, 6, 7, 8, 9, 10, 11, 12, 13, 14, 1...</td>\n",
                            "      <td>42</td>\n",
                            "      <td>{'bootstrap': False, 'max_depth': [4, 5, 6, 7,...</td>\n",
                            "      <td>NaN</td>\n",
                            "      <td>NaN</td>\n",
                            "      <td>NaN</td>\n",
                            "      <td>NaN</td>\n",
                            "      <td>NaN</td>\n",
                            "      <td>NaN</td>\n",
                            "      <td>NaN</td>\n",
                            "      <td>17</td>\n",
                            "    </tr>\n",
                            "    <tr>\n",
                            "      <th>3</th>\n",
                            "      <td>0.000463</td>\n",
                            "      <td>0.000022</td>\n",
                            "      <td>0.000000</td>\n",
                            "      <td>0.000000</td>\n",
                            "      <td>False</td>\n",
                            "      <td>[4, 5, 6, 7, 8, 9, 10, 11]</td>\n",
                            "      <td>2</td>\n",
                            "      <td>100</td>\n",
                            "      <td>42</td>\n",
                            "      <td>{'bootstrap': False, 'max_depth': [4, 5, 6, 7,...</td>\n",
                            "      <td>NaN</td>\n",
                            "      <td>NaN</td>\n",
                            "      <td>NaN</td>\n",
                            "      <td>NaN</td>\n",
                            "      <td>NaN</td>\n",
                            "      <td>NaN</td>\n",
                            "      <td>NaN</td>\n",
                            "      <td>17</td>\n",
                            "    </tr>\n",
                            "    <tr>\n",
                            "      <th>4</th>\n",
                            "      <td>0.000480</td>\n",
                            "      <td>0.000060</td>\n",
                            "      <td>0.000000</td>\n",
                            "      <td>0.000000</td>\n",
                            "      <td>False</td>\n",
                            "      <td>[4, 5, 6, 7, 8, 9, 10, 11]</td>\n",
                            "      <td>3</td>\n",
                            "      <td>[2, 3, 4, 5, 6, 7, 8, 9, 10, 11, 12, 13, 14, 1...</td>\n",
                            "      <td>42</td>\n",
                            "      <td>{'bootstrap': False, 'max_depth': [4, 5, 6, 7,...</td>\n",
                            "      <td>NaN</td>\n",
                            "      <td>NaN</td>\n",
                            "      <td>NaN</td>\n",
                            "      <td>NaN</td>\n",
                            "      <td>NaN</td>\n",
                            "      <td>NaN</td>\n",
                            "      <td>NaN</td>\n",
                            "      <td>17</td>\n",
                            "    </tr>\n",
                            "    <tr>\n",
                            "      <th>...</th>\n",
                            "      <td>...</td>\n",
                            "      <td>...</td>\n",
                            "      <td>...</td>\n",
                            "      <td>...</td>\n",
                            "      <td>...</td>\n",
                            "      <td>...</td>\n",
                            "      <td>...</td>\n",
                            "      <td>...</td>\n",
                            "      <td>...</td>\n",
                            "      <td>...</td>\n",
                            "      <td>...</td>\n",
                            "      <td>...</td>\n",
                            "      <td>...</td>\n",
                            "      <td>...</td>\n",
                            "      <td>...</td>\n",
                            "      <td>...</td>\n",
                            "      <td>...</td>\n",
                            "      <td>...</td>\n",
                            "    </tr>\n",
                            "    <tr>\n",
                            "      <th>67</th>\n",
                            "      <td>0.131606</td>\n",
                            "      <td>0.018469</td>\n",
                            "      <td>0.008131</td>\n",
                            "      <td>0.001866</td>\n",
                            "      <td>True</td>\n",
                            "      <td>None</td>\n",
                            "      <td>7</td>\n",
                            "      <td>100</td>\n",
                            "      <td>42</td>\n",
                            "      <td>{'bootstrap': True, 'max_depth': None, 'min_sa...</td>\n",
                            "      <td>0.772358</td>\n",
                            "      <td>0.845528</td>\n",
                            "      <td>0.756098</td>\n",
                            "      <td>0.747967</td>\n",
                            "      <td>0.770492</td>\n",
                            "      <td>0.778489</td>\n",
                            "      <td>0.034724</td>\n",
                            "      <td>5</td>\n",
                            "    </tr>\n",
                            "    <tr>\n",
                            "      <th>68</th>\n",
                            "      <td>0.000688</td>\n",
                            "      <td>0.000123</td>\n",
                            "      <td>0.000000</td>\n",
                            "      <td>0.000000</td>\n",
                            "      <td>True</td>\n",
                            "      <td>None</td>\n",
                            "      <td>8</td>\n",
                            "      <td>[2, 3, 4, 5, 6, 7, 8, 9, 10, 11, 12, 13, 14, 1...</td>\n",
                            "      <td>42</td>\n",
                            "      <td>{'bootstrap': True, 'max_depth': None, 'min_sa...</td>\n",
                            "      <td>NaN</td>\n",
                            "      <td>NaN</td>\n",
                            "      <td>NaN</td>\n",
                            "      <td>NaN</td>\n",
                            "      <td>NaN</td>\n",
                            "      <td>NaN</td>\n",
                            "      <td>NaN</td>\n",
                            "      <td>17</td>\n",
                            "    </tr>\n",
                            "    <tr>\n",
                            "      <th>69</th>\n",
                            "      <td>0.135079</td>\n",
                            "      <td>0.016975</td>\n",
                            "      <td>0.007550</td>\n",
                            "      <td>0.001121</td>\n",
                            "      <td>True</td>\n",
                            "      <td>None</td>\n",
                            "      <td>8</td>\n",
                            "      <td>100</td>\n",
                            "      <td>42</td>\n",
                            "      <td>{'bootstrap': True, 'max_depth': None, 'min_sa...</td>\n",
                            "      <td>0.764228</td>\n",
                            "      <td>0.821138</td>\n",
                            "      <td>0.747967</td>\n",
                            "      <td>0.747967</td>\n",
                            "      <td>0.770492</td>\n",
                            "      <td>0.770359</td>\n",
                            "      <td>0.026903</td>\n",
                            "      <td>10</td>\n",
                            "    </tr>\n",
                            "    <tr>\n",
                            "      <th>70</th>\n",
                            "      <td>0.000569</td>\n",
                            "      <td>0.000067</td>\n",
                            "      <td>0.000000</td>\n",
                            "      <td>0.000000</td>\n",
                            "      <td>True</td>\n",
                            "      <td>None</td>\n",
                            "      <td>9</td>\n",
                            "      <td>[2, 3, 4, 5, 6, 7, 8, 9, 10, 11, 12, 13, 14, 1...</td>\n",
                            "      <td>42</td>\n",
                            "      <td>{'bootstrap': True, 'max_depth': None, 'min_sa...</td>\n",
                            "      <td>NaN</td>\n",
                            "      <td>NaN</td>\n",
                            "      <td>NaN</td>\n",
                            "      <td>NaN</td>\n",
                            "      <td>NaN</td>\n",
                            "      <td>NaN</td>\n",
                            "      <td>NaN</td>\n",
                            "      <td>17</td>\n",
                            "    </tr>\n",
                            "    <tr>\n",
                            "      <th>71</th>\n",
                            "      <td>0.122543</td>\n",
                            "      <td>0.010511</td>\n",
                            "      <td>0.008779</td>\n",
                            "      <td>0.003649</td>\n",
                            "      <td>True</td>\n",
                            "      <td>None</td>\n",
                            "      <td>9</td>\n",
                            "      <td>100</td>\n",
                            "      <td>42</td>\n",
                            "      <td>{'bootstrap': True, 'max_depth': None, 'min_sa...</td>\n",
                            "      <td>0.772358</td>\n",
                            "      <td>0.813008</td>\n",
                            "      <td>0.739837</td>\n",
                            "      <td>0.747967</td>\n",
                            "      <td>0.786885</td>\n",
                            "      <td>0.772011</td>\n",
                            "      <td>0.026516</td>\n",
                            "      <td>7</td>\n",
                            "    </tr>\n",
                            "  </tbody>\n",
                            "</table>\n",
                            "<p>72 rows × 18 columns</p>\n",
                            "</div>"
                        ],
                        "text/plain": [
                            "    mean_fit_time  std_fit_time  mean_score_time  std_score_time  \\\n",
                            "0        0.000621      0.000265         0.000000        0.000000   \n",
                            "1        0.000505      0.000042         0.000000        0.000000   \n",
                            "2        0.000491      0.000086         0.000000        0.000000   \n",
                            "3        0.000463      0.000022         0.000000        0.000000   \n",
                            "4        0.000480      0.000060         0.000000        0.000000   \n",
                            "..            ...           ...              ...             ...   \n",
                            "67       0.131606      0.018469         0.008131        0.001866   \n",
                            "68       0.000688      0.000123         0.000000        0.000000   \n",
                            "69       0.135079      0.016975         0.007550        0.001121   \n",
                            "70       0.000569      0.000067         0.000000        0.000000   \n",
                            "71       0.122543      0.010511         0.008779        0.003649   \n",
                            "\n",
                            "   param_bootstrap             param_max_depth param_min_samples_split  \\\n",
                            "0            False  [4, 5, 6, 7, 8, 9, 10, 11]                       1   \n",
                            "1            False  [4, 5, 6, 7, 8, 9, 10, 11]                       1   \n",
                            "2            False  [4, 5, 6, 7, 8, 9, 10, 11]                       2   \n",
                            "3            False  [4, 5, 6, 7, 8, 9, 10, 11]                       2   \n",
                            "4            False  [4, 5, 6, 7, 8, 9, 10, 11]                       3   \n",
                            "..             ...                         ...                     ...   \n",
                            "67            True                        None                       7   \n",
                            "68            True                        None                       8   \n",
                            "69            True                        None                       8   \n",
                            "70            True                        None                       9   \n",
                            "71            True                        None                       9   \n",
                            "\n",
                            "                                   param_n_estimators param_random_state  \\\n",
                            "0   [2, 3, 4, 5, 6, 7, 8, 9, 10, 11, 12, 13, 14, 1...                 42   \n",
                            "1                                                 100                 42   \n",
                            "2   [2, 3, 4, 5, 6, 7, 8, 9, 10, 11, 12, 13, 14, 1...                 42   \n",
                            "3                                                 100                 42   \n",
                            "4   [2, 3, 4, 5, 6, 7, 8, 9, 10, 11, 12, 13, 14, 1...                 42   \n",
                            "..                                                ...                ...   \n",
                            "67                                                100                 42   \n",
                            "68  [2, 3, 4, 5, 6, 7, 8, 9, 10, 11, 12, 13, 14, 1...                 42   \n",
                            "69                                                100                 42   \n",
                            "70  [2, 3, 4, 5, 6, 7, 8, 9, 10, 11, 12, 13, 14, 1...                 42   \n",
                            "71                                                100                 42   \n",
                            "\n",
                            "                                               params  split0_test_score  \\\n",
                            "0   {'bootstrap': False, 'max_depth': [4, 5, 6, 7,...                NaN   \n",
                            "1   {'bootstrap': False, 'max_depth': [4, 5, 6, 7,...                NaN   \n",
                            "2   {'bootstrap': False, 'max_depth': [4, 5, 6, 7,...                NaN   \n",
                            "3   {'bootstrap': False, 'max_depth': [4, 5, 6, 7,...                NaN   \n",
                            "4   {'bootstrap': False, 'max_depth': [4, 5, 6, 7,...                NaN   \n",
                            "..                                                ...                ...   \n",
                            "67  {'bootstrap': True, 'max_depth': None, 'min_sa...           0.772358   \n",
                            "68  {'bootstrap': True, 'max_depth': None, 'min_sa...                NaN   \n",
                            "69  {'bootstrap': True, 'max_depth': None, 'min_sa...           0.764228   \n",
                            "70  {'bootstrap': True, 'max_depth': None, 'min_sa...                NaN   \n",
                            "71  {'bootstrap': True, 'max_depth': None, 'min_sa...           0.772358   \n",
                            "\n",
                            "    split1_test_score  split2_test_score  split3_test_score  \\\n",
                            "0                 NaN                NaN                NaN   \n",
                            "1                 NaN                NaN                NaN   \n",
                            "2                 NaN                NaN                NaN   \n",
                            "3                 NaN                NaN                NaN   \n",
                            "4                 NaN                NaN                NaN   \n",
                            "..                ...                ...                ...   \n",
                            "67           0.845528           0.756098           0.747967   \n",
                            "68                NaN                NaN                NaN   \n",
                            "69           0.821138           0.747967           0.747967   \n",
                            "70                NaN                NaN                NaN   \n",
                            "71           0.813008           0.739837           0.747967   \n",
                            "\n",
                            "    split4_test_score  mean_test_score  std_test_score  rank_test_score  \n",
                            "0                 NaN              NaN             NaN               17  \n",
                            "1                 NaN              NaN             NaN               17  \n",
                            "2                 NaN              NaN             NaN               17  \n",
                            "3                 NaN              NaN             NaN               17  \n",
                            "4                 NaN              NaN             NaN               17  \n",
                            "..                ...              ...             ...              ...  \n",
                            "67           0.770492         0.778489        0.034724                5  \n",
                            "68                NaN              NaN             NaN               17  \n",
                            "69           0.770492         0.770359        0.026903               10  \n",
                            "70                NaN              NaN             NaN               17  \n",
                            "71           0.786885         0.772011        0.026516                7  \n",
                            "\n",
                            "[72 rows x 18 columns]"
                        ]
                    },
                    "execution_count": 162,
                    "metadata": {},
                    "output_type": "execute_result"
                }
            ],
            "source": [
                "resultados = pd.DataFrame(grid.cv_results_)\n",
                "resultados"
            ]
        }
    ],
    "metadata": {
        "kernelspec": {
            "display_name": "Python 3.8.13 64-bit ('3.8.13')",
            "language": "python",
            "name": "python3"
        },
        "language_info": {
            "codemirror_mode": {
                "name": "ipython",
                "version": 3
            },
            "file_extension": ".py",
            "mimetype": "text/x-python",
            "name": "python",
            "nbconvert_exporter": "python",
            "pygments_lexer": "ipython3",
            "version": "3.11.4"
        },
        "orig_nbformat": 4,
        "vscode": {
            "interpreter": {
                "hash": "110cc1dee26208153f2972f08a2ad52b6a56238dc66d48e87fb757ef2996db56"
            }
        }
    },
    "nbformat": 4,
    "nbformat_minor": 2
}
